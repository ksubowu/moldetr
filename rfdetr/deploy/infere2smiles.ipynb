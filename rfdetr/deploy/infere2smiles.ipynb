{
 "cells": [
  {
   "cell_type": "code",
   "execution_count": 1,
   "id": "4f1b55cc",
   "metadata": {},
   "outputs": [
    {
     "name": "stderr",
     "output_type": "stream",
     "text": [
      "2025-07-17 02:58:14.174170: I tensorflow/core/util/port.cc:153] oneDNN custom operations are on. You may see slightly different numerical results due to floating-point round-off errors from different computation orders. To turn them off, set the environment variable `TF_ENABLE_ONEDNN_OPTS=0`.\n",
      "2025-07-17 02:58:14.200934: E external/local_xla/xla/stream_executor/cuda/cuda_fft.cc:467] Unable to register cuFFT factory: Attempting to register factory for plugin cuFFT when one has already been registered\n",
      "WARNING: All log messages before absl::InitializeLog() is called are written to STDERR\n",
      "E0000 00:00:1752735494.216365 1569281 cuda_dnn.cc:8579] Unable to register cuDNN factory: Attempting to register factory for plugin cuDNN when one has already been registered\n",
      "E0000 00:00:1752735494.220875 1569281 cuda_blas.cc:1407] Unable to register cuBLAS factory: Attempting to register factory for plugin cuBLAS when one has already been registered\n",
      "W0000 00:00:1752735494.243728 1569281 computation_placer.cc:177] computation placer already registered. Please check linkage and avoid linking the same target more than once.\n",
      "W0000 00:00:1752735494.243746 1569281 computation_placer.cc:177] computation placer already registered. Please check linkage and avoid linking the same target more than once.\n",
      "W0000 00:00:1752735494.243752 1569281 computation_placer.cc:177] computation placer already registered. Please check linkage and avoid linking the same target more than once.\n",
      "W0000 00:00:1752735494.243758 1569281 computation_placer.cc:177] computation placer already registered. Please check linkage and avoid linking the same target more than once.\n",
      "2025-07-17 02:58:14.252695: I tensorflow/core/platform/cpu_feature_guard.cc:210] This TensorFlow binary is optimized to use available CPU instructions in performance-critical operations.\n",
      "To enable the following instructions: AVX2 AVX512F AVX512_VNNI AVX512_BF16 AVX512_FP16 AVX_VNNI FMA, in other operations, rebuild TensorFlow with the appropriate compiler flags.\n"
     ]
    },
    {
     "ename": "AttributeError",
     "evalue": "'MessageFactory' object has no attribute 'GetPrototype'",
     "output_type": "error",
     "traceback": [
      "\u001b[0;31m---------------------------------------------------------------------------\u001b[0m",
      "\u001b[0;31mAttributeError\u001b[0m                            Traceback (most recent call last)",
      "\u001b[0;31mAttributeError\u001b[0m: 'MessageFactory' object has no attribute 'GetPrototype'"
     ]
    },
    {
     "ename": "AttributeError",
     "evalue": "'MessageFactory' object has no attribute 'GetPrototype'",
     "output_type": "error",
     "traceback": [
      "\u001b[0;31m---------------------------------------------------------------------------\u001b[0m",
      "\u001b[0;31mAttributeError\u001b[0m                            Traceback (most recent call last)",
      "\u001b[0;31mAttributeError\u001b[0m: 'MessageFactory' object has no attribute 'GetPrototype'"
     ]
    },
    {
     "ename": "AttributeError",
     "evalue": "'MessageFactory' object has no attribute 'GetPrototype'",
     "output_type": "error",
     "traceback": [
      "\u001b[0;31m---------------------------------------------------------------------------\u001b[0m",
      "\u001b[0;31mAttributeError\u001b[0m                            Traceback (most recent call last)",
      "\u001b[0;31mAttributeError\u001b[0m: 'MessageFactory' object has no attribute 'GetPrototype'"
     ]
    },
    {
     "ename": "AttributeError",
     "evalue": "'MessageFactory' object has no attribute 'GetPrototype'",
     "output_type": "error",
     "traceback": [
      "\u001b[0;31m---------------------------------------------------------------------------\u001b[0m",
      "\u001b[0;31mAttributeError\u001b[0m                            Traceback (most recent call last)",
      "\u001b[0;31mAttributeError\u001b[0m: 'MessageFactory' object has no attribute 'GetPrototype'"
     ]
    },
    {
     "ename": "AttributeError",
     "evalue": "'MessageFactory' object has no attribute 'GetPrototype'",
     "output_type": "error",
     "traceback": [
      "\u001b[0;31m---------------------------------------------------------------------------\u001b[0m",
      "\u001b[0;31mAttributeError\u001b[0m                            Traceback (most recent call last)",
      "\u001b[0;31mAttributeError\u001b[0m: 'MessageFactory' object has no attribute 'GetPrototype'"
     ]
    }
   ],
   "source": [
    "\n",
    "import os,sys\n",
    "os.environ[\"CUDA_VISIBLE_DEVICES\"]='1'\n",
    "from rfdetr import RFDETRBase\n",
    "from rfdetr.util.coco_classes import COCO_CLASSES\n",
    "import supervision as sv\n",
    "import numpy as np\n",
    "from PIL import Image\n",
    "#conda activate py311\n",
    "import time\n",
    "import torch"
   ]
  },
  {
   "cell_type": "code",
   "execution_count": 2,
   "id": "574997d5",
   "metadata": {},
   "outputs": [
    {
     "name": "stdout",
     "output_type": "stream",
     "text": [
      "Loading pretrain weights:@@@@@\n",
      "rf-detr-base.pth\n",
      "Loading pretrain weights:@@@@@\n",
      "/home/tangbw/works/pys/molrfdetr/mrf_output20250706/checkpoint0059.pth\n"
     ]
    },
    {
     "name": "stderr",
     "output_type": "stream",
     "text": [
      "num_classes mismatch: pretrain weights has 23 classes, but your model has 90 classes\n",
      "reinitializing detection head with 23 classes\n"
     ]
    }
   ],
   "source": [
    "\n",
    "checkpoint_path='/home/tangbw/works/pys/molrfdetr/mrf_output20250706/checkpoint0059.pth'#second trained\n",
    "# 初始化模型\n",
    "rf_model = RFDETRBase()\n",
    "\n",
    "rf_model.model_config.pretrain_weights= checkpoint_path\n",
    "rf_model.model = rf_model.get_model(rf_model.model_config)\n",
    "\n",
    "# rfmol=rf_model.model.model.to('cpu')"
   ]
  },
  {
   "cell_type": "code",
   "execution_count": 3,
   "id": "c0073d7a",
   "metadata": {},
   "outputs": [
    {
     "name": "stdout",
     "output_type": "stream",
     "text": [
      "Loading pretrain weights:@@@@@\n",
      "rf-detr-base.pth\n",
      "Loading pretrain weights:@@@@@\n",
      "/home/tangbw/works/pys/molrfdetr/mrf_output20250706/checkpoint0059.pth\n"
     ]
    },
    {
     "name": "stderr",
     "output_type": "stream",
     "text": [
      "num_classes mismatch: pretrain weights has 23 classes, but your model has 90 classes\n",
      "reinitializing detection head with 23 classes\n"
     ]
    }
   ],
   "source": [
    "checkpoint_path='/home/tangbw/works/pys/molrfdetr/mrf_output20250706/checkpoint0059.pth'#second trained\n",
    "# 初始化模型\n",
    "rf_model = RFDETRBase()\n",
    "rf_model.model_config.pretrain_weights= checkpoint_path\n",
    "rf_model.model = rf_model.get_model(rf_model.model_config)\n",
    "\n",
    "# rfmol=rf_model.model.model.to('cpu')"
   ]
  },
  {
   "cell_type": "code",
   "execution_count": null,
   "id": "3458d389",
   "metadata": {},
   "outputs": [],
   "source": [
    "data_dir=\"/home/tangbw/works/datas/view_check_R4/v3/R4_AUG/images\"\n",
    "ds = sv.DetectionDataset.from_coco(\n",
    "    images_directory_path=f\"{data_dir}/test\",\n",
    "    annotations_path=f\"{data_dir}/test/_annotations.coco.json\",\n",
    ")"
   ]
  },
  {
   "cell_type": "code",
   "execution_count": null,
   "id": "c0c08280",
   "metadata": {},
   "outputs": [],
   "source": [
    "#postprocess conver logits to need "
   ]
  }
 ],
 "metadata": {
  "kernelspec": {
   "display_name": "py311",
   "language": "python",
   "name": "python3"
  },
  "language_info": {
   "codemirror_mode": {
    "name": "ipython",
    "version": 3
   },
   "file_extension": ".py",
   "mimetype": "text/x-python",
   "name": "python",
   "nbconvert_exporter": "python",
   "pygments_lexer": "ipython3",
   "version": "3.11.9"
  }
 },
 "nbformat": 4,
 "nbformat_minor": 5
}
